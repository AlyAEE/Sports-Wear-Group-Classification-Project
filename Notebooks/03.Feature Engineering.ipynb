{
 "cells": [
  {
   "cell_type": "code",
   "execution_count": 1,
   "id": "232a9563-ccc4-4749-9599-ba4f8e8c5d99",
   "metadata": {
    "tags": []
   },
   "outputs": [],
   "source": [
    "# Constants\n",
    "DATA_PATH   = \"../data/processed/1_preprocessed_df.pkl\"\n",
    "EXPORT_PATH = \"../data/processed/3_engineered_df.pkl\""
   ]
  },
  {
   "cell_type": "markdown",
   "id": "e200a192-125d-44e9-b22e-f408b5f0802b",
   "metadata": {},
   "source": [
    "## 2-Feature Engineering"
   ]
  },
  {
   "cell_type": "markdown",
   "id": "45bce0e1-48f5-4183-b4eb-68d26246a6ad",
   "metadata": {},
   "source": [
    "## 3-Feature Selection"
   ]
  },
  {
   "cell_type": "code",
   "execution_count": null,
   "id": "801acf46-342e-4dfa-8073-f0f7823e2cea",
   "metadata": {},
   "outputs": [],
   "source": [
    "- **Customer_id have alot of unique values, it might not be that useful**"
   ]
  },
  {
   "cell_type": "code",
   "execution_count": 7,
   "id": "e8b27110-d52f-4f00-9dd6-0044c6e9a153",
   "metadata": {
    "tags": []
   },
   "outputs": [],
   "source": [
    "# drop the ratio column\n",
    "df = df.drop(columns='ratio')"
   ]
  },
  {
   "cell_type": "markdown",
   "id": "e190421a-6a67-400c-81c4-e403ff11795c",
   "metadata": {},
   "source": [
    "## 4-Feature Scaling"
   ]
  },
  {
   "cell_type": "markdown",
   "id": "232266d2-d00c-449e-a384-408980b1ffeb",
   "metadata": {},
   "source": [
    "# Export Data"
   ]
  },
  {
   "cell_type": "code",
   "execution_count": null,
   "id": "c06139eb-4ced-431f-a860-a0c2869a6a45",
   "metadata": {},
   "outputs": [],
   "source": [
    "# Export Data\n",
    "df.to_pickle(EXPORT_PATH)"
   ]
  }
 ],
 "metadata": {
  "kernelspec": {
   "display_name": "Python 3 (ipykernel)",
   "language": "python",
   "name": "python3"
  },
  "language_info": {
   "codemirror_mode": {
    "name": "ipython",
    "version": 3
   },
   "file_extension": ".py",
   "mimetype": "text/x-python",
   "name": "python",
   "nbconvert_exporter": "python",
   "pygments_lexer": "ipython3",
   "version": "3.11.4"
  }
 },
 "nbformat": 4,
 "nbformat_minor": 5
}
