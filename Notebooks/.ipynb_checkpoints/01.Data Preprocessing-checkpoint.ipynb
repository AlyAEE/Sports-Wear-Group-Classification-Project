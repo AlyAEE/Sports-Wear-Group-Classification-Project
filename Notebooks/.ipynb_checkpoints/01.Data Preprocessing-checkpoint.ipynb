{
 "cells": [
  {
   "cell_type": "markdown",
   "id": "225675a7-724c-419f-993a-15d7f5a37ebb",
   "metadata": {},
   "source": [
    "# Data Preprocessing"
   ]
  },
  {
   "cell_type": "code",
   "execution_count": 1,
   "id": "8be13277-0933-4b0f-82e5-d4755c9f1b38",
   "metadata": {
    "tags": []
   },
   "outputs": [],
   "source": [
    "# Constants\n",
    "DATA_PATH   = \"../data/raw/full_gen_data.csv\"\n",
    "EXPORT_PATH = \"../data/processed/1_preprocessed_df.pkl\""
   ]
  },
  {
   "cell_type": "code",
   "execution_count": 3,
   "id": "2f57fff3-f655-4766-b080-2a5848887168",
   "metadata": {
    "tags": []
   },
   "outputs": [],
   "source": [
    "# Load packages\n",
    "import pandas as pd \n",
    "import numpy as np\n",
    "import logging\n",
    "import pickle"
   ]
  },
  {
   "cell_type": "code",
   "execution_count": 4,
   "id": "0ac304f3-9fa7-4e5f-bd53-166faef8b226",
   "metadata": {
    "tags": []
   },
   "outputs": [],
   "source": [
    "# Load dataset and make a copy\n",
    "raw_df = pd.read_csv(DATA_PATH)\n",
    "df = raw_df.copy()"
   ]
  },
  {
   "cell_type": "markdown",
   "id": "51015400-88af-4eb6-9f45-89431dcca1f3",
   "metadata": {},
   "source": [
    "**What is the difference between article and atricl.1 columns**<br>\n",
    "\n",
    "\n",
    "-  While this is considered a Time-Series data , the data is already shuffled as `retailweek` is not in chronological order, thus sorting data may help to gain much more insights\n",
    "\n",
    "**Rename some columns to be more Understandable** <br>\n",
    "**change the ratio column to discount coulmn (discount = 1 - ratio) for clarity** <br>\n",
    "**retail_week need to be in a date format** <br>"
   ]
  },
  {
   "cell_type": "code",
   "execution_count": null,
   "id": "c9a32b72-6175-44a5-9714-43a3aa73147d",
   "metadata": {},
   "outputs": [],
   "source": [
    "# Rename the columns to be more understandable\n",
    "raw_df.rename(columns = {'sales':'salesPerWeek','ratio':'discount','article':'product','article.1':'product1'}, inplace = True)"
   ]
  },
  {
   "cell_type": "code",
   "execution_count": null,
   "id": "0c29ff55-6bd4-4ec7-926d-78d69795022e",
   "metadata": {},
   "outputs": [],
   "source": [
    "**Changes need to be done**\n",
    "- **Rename some columns to be more Understandable**\n",
    "- **change the ratio column to discount coulmn (discount = 1 - ratio) for clarity**\n",
    "- **retail_week need to be in a date format as it is considered a time series data**"
   ]
  },
  {
   "cell_type": "code",
   "execution_count": null,
   "id": "e3e36220-269e-45c1-aa52-5b03bf5c998c",
   "metadata": {},
   "outputs": [],
   "source": [
    "- **Customer_id have alot of unique values, it might not be that useful**"
   ]
  }
 ],
 "metadata": {
  "kernelspec": {
   "display_name": "Python 3 (ipykernel)",
   "language": "python",
   "name": "python3"
  },
  "language_info": {
   "codemirror_mode": {
    "name": "ipython",
    "version": 3
   },
   "file_extension": ".py",
   "mimetype": "text/x-python",
   "name": "python",
   "nbconvert_exporter": "python",
   "pygments_lexer": "ipython3",
   "version": "3.11.4"
  }
 },
 "nbformat": 4,
 "nbformat_minor": 5
}
