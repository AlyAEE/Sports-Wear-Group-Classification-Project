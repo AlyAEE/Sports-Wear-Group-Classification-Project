{
 "cells": [
  {
   "cell_type": "code",
   "execution_count": null,
   "id": "0b8bf7bd-de5d-47aa-866f-566309a375b9",
   "metadata": {},
   "outputs": [],
   "source": []
  },
  {
   "cell_type": "markdown",
   "id": "51015400-88af-4eb6-9f45-89431dcca1f3",
   "metadata": {},
   "source": [
    "**What is the difference between article and atricl.1 columns**<br>\n",
    "\n",
    "\n",
    "-  While this is considered a Time-Series data , the data is already shuffled as `retailweek` is not in chronological order, thus sorting data may help to gain much more insights\n",
    "\n",
    "**Rename some columns to be more Understandable** <br>\n",
    "**change the ratio column to discount coulmn (discount = 1 - ratio) for clarity** <br>\n",
    "**retail_week need to be in a date format** <br>"
   ]
  },
  {
   "cell_type": "code",
   "execution_count": null,
   "id": "c9a32b72-6175-44a5-9714-43a3aa73147d",
   "metadata": {},
   "outputs": [],
   "source": [
    "# Rename the columns to be more understandable\n",
    "raw_df.rename(columns = {'sales':'salesPerWeek','ratio':'discount','article':'product','article.1':'product1'}, inplace = True)"
   ]
  },
  {
   "cell_type": "code",
   "execution_count": null,
   "id": "0c29ff55-6bd4-4ec7-926d-78d69795022e",
   "metadata": {},
   "outputs": [],
   "source": [
    "**Changes need to be done**\n",
    "- **Rename some columns to be more Understandable**\n",
    "- **change the ratio column to discount coulmn (discount = 1 - ratio) for clarity**\n",
    "- **retail_week need to be in a date format as it is considered a time series data**"
   ]
  },
  {
   "cell_type": "code",
   "execution_count": null,
   "id": "e3e36220-269e-45c1-aa52-5b03bf5c998c",
   "metadata": {},
   "outputs": [],
   "source": [
    "- **Customer_id have alot of unique values, it might not be that useful**"
   ]
  }
 ],
 "metadata": {
  "kernelspec": {
   "display_name": "Python 3 (ipykernel)",
   "language": "python",
   "name": "python3"
  },
  "language_info": {
   "codemirror_mode": {
    "name": "ipython",
    "version": 3
   },
   "file_extension": ".py",
   "mimetype": "text/x-python",
   "name": "python",
   "nbconvert_exporter": "python",
   "pygments_lexer": "ipython3",
   "version": "3.11.4"
  }
 },
 "nbformat": 4,
 "nbformat_minor": 5
}
